{
 "cells": [
  {
   "cell_type": "markdown",
   "metadata": {},
   "source": [
    "# Supervised learning Neuron Classfication\n",
    "\n",
    "This notebook documents the achieved accuracies for different architectures of neural networks for the following supervised learning neuron classifications:\n",
    "\n",
    "- [] Pyramidal vs. Interneurons\n",
    "- [] Excitatory vs. Inhibitory neurons\n",
    "\n",
    "Datasets have been obtained from the open-source database:\n",
    "Mizuseki, K., Sirota, A., Pastalkova, E., Diba, K. & Buzs\u0013aki, G. Multiple single unit recordings from different rat hippocampal and entorhinal regions while the animals were performing multiple behavioral tasks. CRCNS.org (2013). \\\n",
    "URL http://dx.doi.org/10.6080/K09G5JRZ."
   ]
  },
  {
   "cell_type": "code",
   "execution_count": 1,
   "metadata": {},
   "outputs": [],
   "source": [
    "import tensorflow as tf\n",
    "import matplotlib.pyplot as plt\n",
    "import numpy as np\n",
    "import os\n",
    "import sys\n",
    "from tensorflow.keras.utils import plot_model\n",
    "from IPython.display import Image\n",
    "\n",
    "\n",
    "cwd = os.getcwd()\n",
    "root_folder = os.sep+\"ML-Neuron-Classification\"\n",
    "sys.path.insert(0, cwd[:(cwd.index(root_folder)+len(root_folder))] + os.sep)\n",
    "\n",
    "from utils.Dense_ANN import*\n",
    "from utils.CNN import*\n",
    "from utils.RNN import*\n",
    "from utils.helper_functions import*\n",
    "from utils.unpacking_dat_files import*"
   ]
  },
  {
   "cell_type": "code",
   "execution_count": 2,
   "metadata": {},
   "outputs": [
    {
     "name": "stdout",
     "output_type": "stream",
     "text": [
      "(81930, 256)\n",
      "(81930, 11)\n"
     ]
    }
   ],
   "source": [
    "# Load data (bin-files)\n",
    "fileNameWF = 'C:/Users/Marius/Documents/Datasets/.dat_testing/ec014_Spikes__Waveform.bin'\n",
    "fileNamePars = 'C:/Users/Marius/Documents/Datasets/.dat_testing/ec014_Spikes__Parameters.bin'\n",
    "\n",
    "data = ReadBinWaveform(fileNameWF)\n",
    "parameters = ReadBinParameters(fileNamePars)\n",
    "\n",
    "print(data.shape)\n",
    "print(parameters.shape)"
   ]
  },
  {
   "cell_type": "markdown",
   "metadata": {},
   "source": [
    "## 1) Classification in Pyramidal vs. Interneurons"
   ]
  },
  {
   "cell_type": "markdown",
   "metadata": {},
   "source": [
    "### Dense neural network"
   ]
  },
  {
   "cell_type": "code",
   "execution_count": 4,
   "metadata": {
    "scrolled": false
   },
   "outputs": [
    {
     "name": "stdout",
     "output_type": "stream",
     "text": [
      "Shape X_train:  (61055, 256)\n",
      "Shape Y_train:  (61055,)\n",
      "Shape X_dev:  (10000, 256)\n",
      "Shape Y_dev:  (10000,)\n",
      "Shape X_test:  (10000, 256)\n",
      "Shape X_test:  (10000,) \n",
      "\n",
      "Training with a total of  61055 training examples!\n",
      "#training examples pyramidal neurons: 29181\n",
      "#training examples interneurons: 31874\n",
      "Train on 61055 samples\n",
      "Epoch 1/5\n",
      "61055/61055 [==============================] - 5s 85us/sample - loss: 0.1448 - accuracy: 0.9790\n",
      "Epoch 2/5\n",
      "61055/61055 [==============================] - 5s 76us/sample - loss: 0.0362 - accuracy: 0.9899\n",
      "Epoch 3/5\n",
      "61055/61055 [==============================] - 5s 76us/sample - loss: 0.0238 - accuracy: 0.9928\n",
      "Epoch 4/5\n",
      "61055/61055 [==============================] - 5s 76us/sample - loss: 0.0216 - accuracy: 0.9939\n",
      "Epoch 5/5\n",
      "61055/61055 [==============================] - 5s 79us/sample - loss: 0.0164 - accuracy: 0.9947\n",
      "10000/10000 [==============================] - 0s 45us/sample - loss: 0.0317 - accuracy: 0.9905\n",
      "The model classifies accurately in 99.04999732971191 %\n"
     ]
    }
   ],
   "source": [
    "#Create labels from parameters file\n",
    "y = creating_y_labels_from_parameters_file(parameters, 'PyramidalvsInter')\n",
    "\n",
    "#Shuffle Waveforms and respective labels\n",
    "data = np.append(data, y, axis=1)\n",
    "reduced_data = data[data[:,256] != 2]  #Delete 'neither'\n",
    "reduced_data = np.take(reduced_data,np.random.permutation(reduced_data.shape[0]),axis=0,out=reduced_data) #random shuffle\n",
    "\n",
    "#Divide data in training, dev & test set (90% + 5% + 5%) & normalize data\n",
    "X_train, Y_train, X_dev, Y_dev, X_test, Y_test = Divide_train_dev_test(X, Y, fraction_list=[0.9, 0.05, 0.05], shuffle=True)\n",
    "X_train, X_dev, X_test = normalization(X_train, X_dev, X_test)\n",
    "\n",
    "#Print sizes\n",
    "print('X_train shape:', X_train.shape)\n",
    "print('Y_train shape:', Y_train.shape)\n",
    "print('X_test shape:', X_test.shape)\n",
    "print('Y_test shape:', Y_test.shape)\n",
    "print('#clusters:', len(np.unique(Y_train)))\n",
    "\n",
    "\n",
    "model = import_fully_connected_ANN(dims = [X_train.shape[-1], 500, 500, 2000, len(np.unique(Y_train))])\n",
    "model.fit(X_train, Y_train, epochs=50, validation_data = (X_test, Y_test))\n",
    "\n",
    "print(\"The model classifies accurately in\", model.evaluate(X_dev, Y_dev)[1]*100, \"%\")"
   ]
  }
 ],
 "metadata": {
  "kernelspec": {
   "display_name": "Python 3",
   "language": "python",
   "name": "python3"
  },
  "language_info": {
   "codemirror_mode": {
    "name": "ipython",
    "version": 3
   },
   "file_extension": ".py",
   "mimetype": "text/x-python",
   "name": "python",
   "nbconvert_exporter": "python",
   "pygments_lexer": "ipython3",
   "version": "3.7.6"
  }
 },
 "nbformat": 4,
 "nbformat_minor": 4
}
