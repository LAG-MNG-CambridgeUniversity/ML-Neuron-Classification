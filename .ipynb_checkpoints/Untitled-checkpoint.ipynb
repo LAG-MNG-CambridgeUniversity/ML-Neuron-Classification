{
 "cells": [
  {
   "cell_type": "code",
   "execution_count": 2,
   "metadata": {},
   "outputs": [],
   "source": [
    "import numpy as np"
   ]
  },
  {
   "cell_type": "code",
   "execution_count": 75,
   "metadata": {},
   "outputs": [],
   "source": [
    "def normalization(Data_2d_array, alignment_training_examples = 'stacked_rows'):\n",
    "  if alignment_training_examples == 'stacked_rows':\n",
    "      #substract mean\n",
    "      means = np.mean(Data_2d_array, axis=0)\n",
    "      means = means.reshape((1, Data_2d_array.shape[1]))\n",
    "      Normalized_data = Data_2d_array - means\n",
    "\n",
    "      #Normalize over variance\n",
    "      element_wise_squares = np.multiply(Normalized_data,Normalized_data)\n",
    "      variances = np.mean(element_wise_squares, axis=0)\n",
    "      variances = variances.reshape((1, Data_2d_array.shape[1]))\n",
    "      Normalized_data = Normalized_data / variances\n",
    "\n",
    "  elif alignment_training_examples == 'stacked_columns':\n",
    "      #substract mean\n",
    "      means = np.mean(Data_2d_array, axis=1)\n",
    "      means = means.reshape((Data_2d_array.shape[0], 1))\n",
    "      Normalized_data = Data_2d_array - means\n",
    "\n",
    "      #Normalize over variance\n",
    "      element_wise_squares = np.multiply(Normalized_data,Normalized_data)\n",
    "      variances = np.mean(element_wise_squares, axis=1)\n",
    "      variances = variances.reshape((Data_2d_array.shape[0], 1))\n",
    "      Normalized_data = Normalized_data / variances\n",
    "\n",
    "  else:\n",
    "    raise ValueError(f'Please specify the stacking of your training examples in the argument alignment_training_examples to one of the valid options: stacked_rows, stacked_columns')\n",
    "\n",
    "  return Normalized_data"
   ]
  },
  {
   "cell_type": "code",
   "execution_count": 82,
   "metadata": {},
   "outputs": [
    {
     "name": "stdout",
     "output_type": "stream",
     "text": [
      "[[3. 3. 4.]\n",
      " [1. 5. 9.]\n",
      " [2. 6. 5.]\n",
      " [3. 5. 9.]]\n",
      "[[3. 1. 2. 3.]\n",
      " [3. 5. 6. 5.]\n",
      " [4. 9. 5. 9.]]\n"
     ]
    }
   ],
   "source": [
    "arr = np.array([[3., 3, 4], [1, 5, 9], [2, 6, 5], [3, 5, 9]])\n",
    "print(arr)\n",
    "print(arr.T)"
   ]
  },
  {
   "cell_type": "code",
   "execution_count": 83,
   "metadata": {},
   "outputs": [
    {
     "name": "stdout",
     "output_type": "stream",
     "text": [
      "[[ 1.09090909 -1.47368421 -0.53012048]\n",
      " [-1.81818182  0.21052632  0.43373494]\n",
      " [-0.36363636  1.05263158 -0.3373494 ]\n",
      " [ 1.09090909  0.21052632  0.43373494]]\n"
     ]
    }
   ],
   "source": [
    "a = normalization(arr)\n",
    "print(a)"
   ]
  },
  {
   "cell_type": "code",
   "execution_count": 84,
   "metadata": {},
   "outputs": [
    {
     "name": "stdout",
     "output_type": "stream",
     "text": [
      "[[ 1.09090909 -1.81818182 -0.36363636  1.09090909]\n",
      " [-1.47368421  0.21052632  1.05263158  0.21052632]\n",
      " [-0.53012048  0.43373494 -0.3373494   0.43373494]]\n"
     ]
    }
   ],
   "source": [
    "b = normalization(arr.T, alignment_training_examples = 'stacked_columns')\n",
    "print(b)"
   ]
  },
  {
   "cell_type": "code",
   "execution_count": 8,
   "metadata": {},
   "outputs": [
    {
     "name": "stdout",
     "output_type": "stream",
     "text": [
      "[[3. 1. 4.]\n",
      " [1. 5. 9.]\n",
      " [2. 6. 5.]\n",
      " [3. 5. 8.]]\n",
      "[2.25 4.25 6.5 ]\n",
      "[[2.25 4.25 6.5 ]]\n",
      "[[ 0.75 -3.25 -2.5 ]\n",
      " [-1.25  0.75  2.5 ]\n",
      " [-0.25  1.75 -1.5 ]\n",
      " [ 0.75  0.75  1.5 ]]\n",
      "[[ 0.5625 10.5625  6.25  ]\n",
      " [ 1.5625  0.5625  6.25  ]\n",
      " [ 0.0625  3.0625  2.25  ]\n",
      " [ 0.5625  0.5625  2.25  ]]\n",
      "[[0.6875 3.6875 4.25  ]]\n",
      "[[ 1.09090909 -0.88135593 -0.58823529]\n",
      " [-1.81818182  0.20338983  0.58823529]\n",
      " [-0.36363636  0.47457627 -0.35294118]\n",
      " [ 1.09090909  0.20338983  0.35294118]]\n"
     ]
    }
   ],
   "source": [
    "arr = np.array([[3., 1, 4], [1, 5, 9], [2, 6, 5], [3, 5, 8]])\n",
    "print(arr)\n",
    "means = np.mean(arr, axis=0)\n",
    "print(means)\n",
    "means = means.reshape((1, arr.shape[1]))\n",
    "print(means)\n",
    "arr -= means\n",
    "print(arr)\n",
    "\n",
    "element_wise_squares = np.multiply(arr,arr)\n",
    "print(element_wise_squares)\n",
    "variances = np.mean(element_wise_squares, axis=0)\n",
    "variances = variances.reshape((1, arr.shape[1]))\n",
    "print(variances)\n",
    "arr /= variances\n",
    "print(arr)"
   ]
  }
 ],
 "metadata": {
  "kernelspec": {
   "display_name": "Python 3",
   "language": "python",
   "name": "python3"
  },
  "language_info": {
   "codemirror_mode": {
    "name": "ipython",
    "version": 3
   },
   "file_extension": ".py",
   "mimetype": "text/x-python",
   "name": "python",
   "nbconvert_exporter": "python",
   "pygments_lexer": "ipython3",
   "version": "3.7.6"
  }
 },
 "nbformat": 4,
 "nbformat_minor": 4
}
