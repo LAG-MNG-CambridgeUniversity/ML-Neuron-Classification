{
 "cells": [
  {
   "cell_type": "code",
   "execution_count": 405,
   "metadata": {},
   "outputs": [],
   "source": [
    "import tensorflow as tf\n",
    "import matplotlib.pyplot as plt\n",
    "from tensorflow.keras.models import Sequential\n",
    "from tensorflow.keras.layers import Dense, Dropout, LSTM\n",
    "from sklearn.preprocessing import MinMaxScaler\n",
    "from sklearn.preprocessing import StandardScaler\n",
    "\n",
    "from utils.fully_connected_ANN import*\n",
    "from utils.convolutional_neural_network import*\n",
    "from utils.helper_functions import*\n",
    "from utils.unpacking_dat_files import*"
   ]
  },
  {
   "cell_type": "code",
   "execution_count": 16,
   "metadata": {},
   "outputs": [
    {
     "name": "stdout",
     "output_type": "stream",
     "text": [
      "Downloading data from https://storage.googleapis.com/tensorflow/tf-keras-datasets/mnist.npz\n",
      "11493376/11490434 [==============================] - 3s 0us/step\n",
      "(60000, 28, 28)\n",
      "(28, 28)\n"
     ]
    }
   ],
   "source": [
    "'''\n",
    "mnist = tf.keras.datasets.mnist  # mnist is a dataset of 28x28 images of handwritten digits and their labels\n",
    "(x_train, y_train),(x_test, y_test) = mnist.load_data()  # unpacks images to x_train/x_test and labels to y_train/y_test\n",
    "\n",
    "x_train = x_train/255.0\n",
    "x_test = x_test/255.0\n",
    "\n",
    "print(x_train.shape)\n",
    "print(x_train[0].shape)\n",
    "'''"
   ]
  },
  {
   "cell_type": "code",
   "execution_count": 70,
   "metadata": {},
   "outputs": [],
   "source": [
    "'''\n",
    "data = np.loadtxt('C:/Users/Marius/Documents/Datasets/testing/Combined_Data_ML.txt', dtype=np.float, delimiter=',')\n",
    "idx = np.random.choice(data.shape[0], 46769, replace=False)\n",
    "Y_test = data[idx,256]\n",
    "X_test = data[idx,0:256]\n",
    "A = np.delete(data,idx,0)\n",
    "Y_train = A[:,256]\n",
    "X_train = A[:,0:256]\n",
    "\n",
    "#Normalization\n",
    "scaler = MinMaxScaler()\n",
    "scaler.fit(X_train)\n",
    "X_train = scaler.transform(X_train)\n",
    "X_test = scaler.transform(X_test)\n",
    "\n",
    "#Reshape Training and test data for Conv network\n",
    "X_train = X_train.reshape(X_train.shape[0], X_train.shape[1],1)\n",
    "X_test = X_test.reshape(X_test.shape[0], X_test.shape[1],1)'''"
   ]
  },
  {
   "cell_type": "code",
   "execution_count": 406,
   "metadata": {},
   "outputs": [],
   "source": [
    "data = ReadBinWaveform('C:/Users/Marius/Documents/Datasets/.dat_testing/ec014_Spikes__Waveform.bin')\n",
    "parameters = ReadBinParameters('C:/Users/Marius/Documents/Datasets/.dat_testing/ec014_Spikes__Parameters.bin')"
   ]
  },
  {
   "cell_type": "code",
   "execution_count": 271,
   "metadata": {},
   "outputs": [],
   "source": [
    "'''data1 = np.genfromtxt('C:/Users/Marius/Documents/Datasets/.txt/ec014.42_794_796_798_spikes.txt', usecols=list(range(0,256)), skip_header=1)\n",
    "parameters1 = np.genfromtxt('C:/Users/Marius/Documents/Datasets/.txt/ec014.42_794_796_798_spikes.txt', dtype=None, encoding='UTF-8', usecols=list(range(256,267)), skip_header=1'''"
   ]
  },
  {
   "cell_type": "code",
   "execution_count": null,
   "metadata": {},
   "outputs": [],
   "source": [
    "'''X = data1\n",
    "Y = creating_y_labels_from_parameters_file(parameters1, 'ExcvsInh')\n",
    "#Delte 'neither' and 'double-con' option in train and test set\n",
    "X = X[Y[:,0] != 3]\n",
    "Y = Y[Y[:,0] != 3]\n",
    "X = X[Y[:,0] != 2]\n",
    "Y = Y[Y[:,0] != 2]'''  "
   ]
  },
  {
   "cell_type": "code",
   "execution_count": 645,
   "metadata": {},
   "outputs": [],
   "source": [
    "#Create y labels from Paramters file\n",
    "Y = np.empty(shape=(parameters.shape[0],1))\n",
    "Y[:,0] = parameters[:,5]"
   ]
  },
  {
   "cell_type": "code",
   "execution_count": 646,
   "metadata": {},
   "outputs": [
    {
     "name": "stdout",
     "output_type": "stream",
     "text": [
      "shape X data: (80495, 256) \n",
      "\n",
      "shape Y data: (80495, 1)\n",
      "[0. 1. 2. 3. 4. 5. 6. 7.]\n",
      "8\n"
     ]
    }
   ],
   "source": [
    "X = data[Y[:,0] < 10]\n",
    "Y = Y[Y[:,0] < 10] \n",
    "Y -= 2 #bias to 0\n",
    "print('shape X data:', X.shape, '\\n')\n",
    "print('shape Y data:', Y.shape)\n",
    "print(np.unique(Y))\n",
    "print(len(np.unique(Y)))"
   ]
  },
  {
   "cell_type": "code",
   "execution_count": 647,
   "metadata": {},
   "outputs": [],
   "source": [
    "#Divide in train, dev & test and normalize\n",
    "X_train, Y_train, X_dev, Y_dev, X_test, Y_test = Divide_train_dev_test(X, Y, fraction_list=[0.9, 0.05, 0.05], shuffle=True)\n",
    "#X_train, X_dev, X_test = normalization(X_train, X_dev, X_test, alignment_training_examples = 'stacked_rows')\n",
    "scaler = StandardScaler()\n",
    "scaler.fit(X_train)\n",
    "X_train = scaler.transform(X_train)\n",
    "X_dev = scaler.transform(X_dev)\n",
    "X_test = scaler.transform(X_test)"
   ]
  },
  {
   "cell_type": "code",
   "execution_count": 648,
   "metadata": {},
   "outputs": [
    {
     "name": "stdout",
     "output_type": "stream",
     "text": [
      "[ 1.83270938  1.92948089  1.00916895 -0.72988379 -1.48889921 -0.82010506\n",
      " -0.58661503 -0.21091517  0.83132758  0.57950938 -0.30689517 -0.25769902\n",
      " -0.18532795 -0.59873051 -0.88303641 -0.67577592]\n",
      "[-0.28690737  0.09276182  0.35809298  0.60091892  0.68945007  0.54835643\n",
      "  0.3372891   0.52728492  0.43523267  0.06632956 -0.02991878  0.34141083\n",
      "  0.1390229  -0.61787934 -0.70293562 -1.21943217]\n",
      "[ 0.21000958  0.25478261  0.26587583  0.00241759  0.14812566  0.43278558\n",
      " -0.19626598 -0.27825133 -0.08346144 -0.0261705   0.01101947 -0.29162191\n",
      " -0.56218912 -0.68375846 -0.66994766 -0.45455669]\n"
     ]
    }
   ],
   "source": [
    "print(X_train[1,0:16])\n",
    "print(X_train[1,16:32])\n",
    "print(X_train[1,-16:])"
   ]
  },
  {
   "cell_type": "code",
   "execution_count": 649,
   "metadata": {},
   "outputs": [],
   "source": [
    "X_train = X_train.reshape(X_train.shape[0], 16, 16)\n",
    "X_dev = X_dev.reshape(X_dev.shape[0], 16,16)\n",
    "X_test = X_test.reshape(X_test.shape[0], 16,16)"
   ]
  },
  {
   "cell_type": "code",
   "execution_count": 651,
   "metadata": {},
   "outputs": [],
   "source": [
    "model = Sequential()\n",
    "model.add(LSTM(128, input_shape=(X_train.shape[1:]), activation='relu',kernel_initializer=tf.keras.initializers.RandomNormal(mean=0.0, stddev=0.1, seed=None), return_sequences=True))\n",
    "model.add(tf.keras.layers.Dropout(0.2))\n",
    "model.add(tf.keras.layers.LSTM(64, activation='relu', return_sequences=True))\n",
    "model.add(tf.keras.layers.Dropout(0.2))\n",
    "model.add(tf.keras.layers.LSTM(32, activation='relu', return_sequences=False))\n",
    "model.add(tf.keras.layers.Flatten())\n",
    "model.add(Dense(32, activation='relu'))\n",
    "model.add(tf.keras.layers.Dropout(0.2))\n",
    "model.add(Dense(len(np.unique(Y_train)), activation='softmax'))"
   ]
  },
  {
   "cell_type": "code",
   "execution_count": 652,
   "metadata": {
    "scrolled": false
   },
   "outputs": [
    {
     "name": "stdout",
     "output_type": "stream",
     "text": [
      "Train on 72446 samples\n",
      "Epoch 1/50\n",
      "72446/72446 [==============================] - 75s 1ms/sample - loss: 0.8672 - accuracy: 0.6987\n",
      "Epoch 2/50\n",
      "72446/72446 [==============================] - 71s 976us/sample - loss: 0.4789 - accuracy: 0.8454\n",
      "Epoch 3/50\n",
      "72446/72446 [==============================] - 80s 1ms/sample - loss: 0.3423 - accuracy: 0.8932\n",
      "Epoch 4/50\n",
      "72446/72446 [==============================] - 75s 1ms/sample - loss: 0.2770 - accuracy: 0.9145\n",
      "Epoch 5/50\n",
      "72446/72446 [==============================] - 71s 975us/sample - loss: 0.2248 - accuracy: 0.9301\n",
      "Epoch 6/50\n",
      "72446/72446 [==============================] - 71s 978us/sample - loss: 0.1958 - accuracy: 0.9410\n",
      "Epoch 7/50\n",
      "72446/72446 [==============================] - 71s 983us/sample - loss: 0.1729 - accuracy: 0.9479\n",
      "Epoch 8/50\n",
      "72446/72446 [==============================] - 73s 1ms/sample - loss: 0.1557 - accuracy: 0.9521\n",
      "Epoch 9/50\n",
      "72446/72446 [==============================] - 71s 979us/sample - loss: 0.1421 - accuracy: 0.9567\n",
      "Epoch 10/50\n",
      "72446/72446 [==============================] - 71s 980us/sample - loss: 0.1283 - accuracy: 0.9611\n",
      "Epoch 11/50\n",
      "72446/72446 [==============================] - 71s 986us/sample - loss: 0.1198 - accuracy: 0.9637\n",
      "Epoch 12/50\n",
      "72446/72446 [==============================] - 75s 1ms/sample - loss: 0.1134 - accuracy: 0.9648\n",
      "Epoch 13/50\n",
      "72446/72446 [==============================] - 71s 986us/sample - loss: 0.1005 - accuracy: 0.9693\n",
      "Epoch 14/50\n",
      "72446/72446 [==============================] - 71s 984us/sample - loss: 0.0947 - accuracy: 0.9710\n",
      "Epoch 15/50\n",
      "72446/72446 [==============================] - 71s 981us/sample - loss: 0.0907 - accuracy: 0.9720\n",
      "Epoch 16/50\n",
      "72446/72446 [==============================] - 75s 1ms/sample - loss: 0.0861 - accuracy: 0.9734\n",
      "Epoch 17/50\n",
      "72446/72446 [==============================] - 71s 982us/sample - loss: 0.0781 - accuracy: 0.9751\n",
      "Epoch 18/50\n",
      "72446/72446 [==============================] - 74s 1ms/sample - loss: 0.0736 - accuracy: 0.9764\n",
      "Epoch 19/50\n",
      "72446/72446 [==============================] - 78s 1ms/sample - loss: 0.0713 - accuracy: 0.9774\n",
      "Epoch 20/50\n",
      "72446/72446 [==============================] - 78s 1ms/sample - loss: 0.0623 - accuracy: 0.9798\n",
      "Epoch 21/50\n",
      "72446/72446 [==============================] - 74s 1ms/sample - loss: 0.0606 - accuracy: 0.9816\n",
      "Epoch 22/50\n",
      "72446/72446 [==============================] - 74s 1ms/sample - loss: 0.0583 - accuracy: 0.9812\n",
      "Epoch 23/50\n",
      "72446/72446 [==============================] - 75s 1ms/sample - loss: 0.0537 - accuracy: 0.9826\n",
      "Epoch 24/50\n",
      "72446/72446 [==============================] - 77s 1ms/sample - loss: 0.0519 - accuracy: 0.9836\n",
      "Epoch 25/50\n",
      "72446/72446 [==============================] - 73s 1ms/sample - loss: 0.0504 - accuracy: 0.9843\n",
      "Epoch 26/50\n",
      "72446/72446 [==============================] - 74s 1ms/sample - loss: 0.0462 - accuracy: 0.9857\n",
      "Epoch 27/50\n",
      "72446/72446 [==============================] - 74s 1ms/sample - loss: 0.0482 - accuracy: 0.9847\n",
      "Epoch 28/50\n",
      "72446/72446 [==============================] - 75s 1ms/sample - loss: 0.0456 - accuracy: 0.9857\n",
      "Epoch 29/50\n",
      "72446/72446 [==============================] - 75s 1ms/sample - loss: 0.0419 - accuracy: 0.9866\n",
      "Epoch 30/50\n",
      "72446/72446 [==============================] - 74s 1ms/sample - loss: 0.0399 - accuracy: 0.9877\n",
      "Epoch 31/50\n",
      "72446/72446 [==============================] - 72s 993us/sample - loss: 0.0411 - accuracy: 0.9868\n",
      "Epoch 32/50\n",
      "72446/72446 [==============================] - 73s 1ms/sample - loss: 0.0344 - accuracy: 0.9890\n",
      "Epoch 33/50\n",
      "72446/72446 [==============================] - 74s 1ms/sample - loss: 0.0338 - accuracy: 0.9894\n",
      "Epoch 34/50\n",
      "72446/72446 [==============================] - 72s 998us/sample - loss: 0.0363 - accuracy: 0.9888\n",
      "Epoch 35/50\n",
      "72446/72446 [==============================] - 73s 1ms/sample - loss: 0.0330 - accuracy: 0.9892\n",
      "Epoch 36/50\n",
      "72446/72446 [==============================] - 74s 1ms/sample - loss: 0.0320 - accuracy: 0.9897\n",
      "Epoch 37/50\n",
      "72446/72446 [==============================] - 74s 1ms/sample - loss: 0.0306 - accuracy: 0.9903\n",
      "Epoch 38/50\n",
      "72446/72446 [==============================] - 73s 1ms/sample - loss: 0.0297 - accuracy: 0.9905\n",
      "Epoch 39/50\n",
      "72446/72446 [==============================] - 73s 1ms/sample - loss: 0.0285 - accuracy: 0.9908\n",
      "Epoch 40/50\n",
      "72446/72446 [==============================] - 75s 1ms/sample - loss: 0.0254 - accuracy: 0.9921\n",
      "Epoch 41/50\n",
      "72446/72446 [==============================] - 76s 1ms/sample - loss: 0.0231 - accuracy: 0.9922\n",
      "Epoch 42/50\n",
      "72446/72446 [==============================] - 74s 1ms/sample - loss: 0.0263 - accuracy: 0.9917\n",
      "Epoch 43/50\n",
      "72446/72446 [==============================] - 74s 1ms/sample - loss: 0.0261 - accuracy: 0.9920\n",
      "Epoch 44/50\n",
      "72446/72446 [==============================] - 74s 1ms/sample - loss: 0.0250 - accuracy: 0.9920\n",
      "Epoch 45/50\n",
      "72446/72446 [==============================] - 76s 1ms/sample - loss: 0.0236 - accuracy: 0.9928\n",
      "Epoch 46/50\n",
      "72446/72446 [==============================] - 74s 1ms/sample - loss: 0.0243 - accuracy: 0.9925\n",
      "Epoch 47/50\n",
      "72446/72446 [==============================] - 79s 1ms/sample - loss: 0.0219 - accuracy: 0.9930\n",
      "Epoch 48/50\n",
      "72446/72446 [==============================] - 75s 1ms/sample - loss: 0.0226 - accuracy: 0.9928\n",
      "Epoch 49/50\n",
      "72446/72446 [==============================] - 77s 1ms/sample - loss: 0.0225 - accuracy: 0.9927\n",
      "Epoch 50/50\n",
      "72446/72446 [==============================] - 73s 1ms/sample - loss: 0.0194 - accuracy: 0.9943\n"
     ]
    }
   ],
   "source": [
    "opt = tf.keras.optimizers.Adam(learning_rate=0.001, decay=1.e-6)\n",
    "\n",
    "model.compile(\n",
    "    loss='sparse_categorical_crossentropy',\n",
    "    optimizer=opt,\n",
    "    metrics=['accuracy'],\n",
    ")\n",
    "\n",
    "history = model.fit(X_train,\n",
    "          Y_train,\n",
    "          epochs=50, batch_size=128)"
   ]
  },
  {
   "cell_type": "code",
   "execution_count": 653,
   "metadata": {},
   "outputs": [
    {
     "data": {
      "image/png": "[encoded data removed]",
      "text/plain": [
       "<Figure size 432x288 with 1 Axes>"
      ]
     },
     "metadata": {
      "needs_background": "light"
     },
     "output_type": "display_data"
    }
   ],
   "source": [
    "plt.plot(history.history['loss'])\n",
    "plt.show()"
   ]
  },
  {
   "cell_type": "code",
   "execution_count": 654,
   "metadata": {},
   "outputs": [
    {
     "data": {
      "image/png": "[encoded data removed]",
      "text/plain": [
       "<Figure size 432x288 with 1 Axes>"
      ]
     },
     "metadata": {
      "needs_background": "light"
     },
     "output_type": "display_data"
    }
   ],
   "source": [
    "plt.plot(history.history['accuracy'])\n",
    "plt.show()"
   ]
  }
 ],
 "metadata": {
  "kernelspec": {
   "display_name": "Python 3",
   "language": "python",
   "name": "python3"
  },
  "language_info": {
   "codemirror_mode": {
    "name": "ipython",
    "version": 3
   },
   "file_extension": ".py",
   "mimetype": "text/x-python",
   "name": "python",
   "nbconvert_exporter": "python",
   "pygments_lexer": "ipython3",
   "version": "3.7.6"
  }
 },
 "nbformat": 4,
 "nbformat_minor": 4
}
